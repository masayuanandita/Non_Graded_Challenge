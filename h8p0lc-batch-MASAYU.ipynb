{
 "cells": [
  {
   "cell_type": "code",
   "execution_count": 5,
   "metadata": {},
   "outputs": [
    {
     "name": "stdout",
     "output_type": "stream",
     "text": [
      "======Program Inventory management=========\n",
      " \n",
      "Menu : \n"
     ]
    }
   ],
   "source": [
    "print(\"======Program Inventory management=========\")\n",
    "print(\" \")\n",
    "print(\"Menu : \")\n",
    "\n",
    "\n",
    "def addData(inventory_data):\n",
    "    nama = print(\"Masukkan nama barang :\")\n",
    "    kategori = print(\"Masukkan kategori barang :\")\n",
    "    harga = print(\"Masukkan harga : \")\n",
    "    inventory_data.append(nama, kagetori, harga)\n",
    "    print(\"Terima Kasih data sudah disimpan\"\n",
    "          )\n",
    "    \n",
    "def displayData(invetory_data):\n",
    "    for data in invetory_data:\n",
    "        print(invetory_data\n",
    "              )\n",
    "        \n",
    "def management_inventory():\n",
    "    inventory_data = []\n",
    "\n",
    "    while inventory_data == True:\n",
    "        pilih = print(\"\\n1. Input Data : \\n2 2. Masukkan data : \")\n",
    "        print(\"Pilih menu atau keluar : \")\n",
    "        \n",
    "        if pilih == \"1\":\n",
    "            addData(inventory_data)\n",
    "        elif pilih == \"2\":\n",
    "            displayData(inventory_data)\n",
    "        else:\n",
    "            print(\"Invalid\")\n",
    "            break \n",
    "\n",
    "management_inventory()\n",
    "\n",
    "\n"
   ]
  }
 ],
 "metadata": {
  "kernelspec": {
   "display_name": "Python 3",
   "language": "python",
   "name": "python3"
  },
  "language_info": {
   "codemirror_mode": {
    "name": "ipython",
    "version": 3
   },
   "file_extension": ".py",
   "mimetype": "text/x-python",
   "name": "python",
   "nbconvert_exporter": "python",
   "pygments_lexer": "ipython3",
   "version": "3.8.10"
  }
 },
 "nbformat": 4,
 "nbformat_minor": 2
}
