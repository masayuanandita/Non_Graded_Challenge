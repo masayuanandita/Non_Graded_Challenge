{
 "cells": [
  {
   "cell_type": "code",
   "execution_count": 5,
   "metadata": {},
   "outputs": [
    {
     "name": "stdout",
     "output_type": "stream",
     "text": [
      "Number of words :  8\n"
     ]
    }
   ],
   "source": [
    "#Task 1 - Number of Word\n",
    "#Create a function that count the number of word in a sentence.\n",
    "\n",
    "\n",
    "def number_of_word(sentence):\n",
    "    #method to split the sentennce into list of words\n",
    "    words = sentence.split()\n",
    "\n",
    "    #func to count element insite a list\n",
    "    counts = len(words)\n",
    "\n",
    "    #return number of word\n",
    "    return counts\n",
    "\n",
    "words = number_of_word(sentence =  \"Once Upon a Time in a faraway land\")\n",
    "print(\"Number of words : \", words)\n"
   ]
  },
  {
   "cell_type": "markdown",
   "metadata": {},
   "source": [
    "Non-Graded Challenge 5 - Unit Test"
   ]
  },
  {
   "cell_type": "code",
   "execution_count": 17,
   "metadata": {},
   "outputs": [
    {
     "name": "stderr",
     "output_type": "stream",
     "text": [
      "."
     ]
    },
    {
     "name": "stdout",
     "output_type": "stream",
     "text": [
      "8\n"
     ]
    },
    {
     "name": "stderr",
     "output_type": "stream",
     "text": [
      "\n",
      "----------------------------------------------------------------------\n",
      "Ran 1 test in 0.003s\n",
      "\n",
      "OK\n"
     ]
    },
    {
     "data": {
      "text/plain": [
       "<unittest.main.TestProgram at 0x267f4bde850>"
      ]
     },
     "execution_count": 17,
     "metadata": {},
     "output_type": "execute_result"
    }
   ],
   "source": [
    "import unittest\n",
    "\n",
    "class UnitTest(unittest.TestCase) :\n",
    "  def test_number_of_word(self):\n",
    "    words = number_of_word(sentence =  \"Once Upon a Time in a faraway land\")\n",
    "    print(words)\n",
    "    self.assertEqual(words, 8)\n",
    "\n",
    "unittest.main(argv=[''], exit= False)"
   ]
  },
  {
   "cell_type": "code",
   "execution_count": 12,
   "metadata": {},
   "outputs": [
    {
     "name": "stdout",
     "output_type": "stream",
     "text": [
      "[5, 10, 15, 20]\n"
     ]
    }
   ],
   "source": [
    "#Task 2 - Find Multiple\n",
    "#Create a function that will get list of number(s) from a certain range that multiples of given number\n",
    "\n",
    "def find_multiple(start_range, end_range, multiple):\n",
    "    numbers_multiple = []\n",
    "\n",
    "    for numbers in range (start_range, end_range +1):\n",
    "        if numbers % multiple == 0:\n",
    "            numbers_multiple.append(numbers)\n",
    "    \n",
    "    return numbers_multiple\n",
    "\n",
    "result = find_multiple(start_range = 1, end_range = 20 , multiple = 5)\n",
    "print(result)"
   ]
  },
  {
   "cell_type": "code",
   "execution_count": 16,
   "metadata": {},
   "outputs": [
    {
     "name": "stderr",
     "output_type": "stream",
     "text": [
      "."
     ]
    },
    {
     "name": "stdout",
     "output_type": "stream",
     "text": [
      "[5, 10, 15, 20]\n"
     ]
    },
    {
     "name": "stderr",
     "output_type": "stream",
     "text": [
      "\n",
      "----------------------------------------------------------------------\n",
      "Ran 1 test in 0.003s\n",
      "\n",
      "OK\n"
     ]
    },
    {
     "data": {
      "text/plain": [
       "<unittest.main.TestProgram at 0x267f4c65850>"
      ]
     },
     "execution_count": 16,
     "metadata": {},
     "output_type": "execute_result"
    }
   ],
   "source": [
    "import unittest\n",
    "\n",
    "class UnitTest(unittest.TestCase) :\n",
    "  def test_find_multiple(self):\n",
    "    result = find_multiple(start_range = 1, end_range = 20 , multiple = 5)\n",
    "    print(result)\n",
    "    self.assertEqual(result, [5, 10, 15, 20])\n",
    "\n",
    "unittest.main(argv=[''], exit= False)"
   ]
  },
  {
   "cell_type": "code",
   "execution_count": 18,
   "metadata": {},
   "outputs": [
    {
     "name": "stdout",
     "output_type": "stream",
     "text": [
      "{'Adam': '2.5', 'Faiz': '4'}\n"
     ]
    }
   ],
   "source": [
    "#Task 3 - Grade Converter\n",
    "#Create a function that will convert student’s grade to GPA.\n",
    "\n",
    "def Grade_Converter(convert_to, **kwargs):\n",
    "    Grades = {}\n",
    "\n",
    "    def letter_grade(score):\n",
    "        if score >= 85  and score <= 100:\n",
    "            return \"A\"\n",
    "        if score >= 70  and score < 84.99:\n",
    "            return \"B\"\n",
    "        elif score >= 60  and score < 69.99:\n",
    "            return \"C\"\n",
    "        elif score >= 50  and score < 59.99:\n",
    "            return \"D\"\n",
    "        elif score >= 40  and score < 49.99:\n",
    "            return \"E\"\n",
    "        else:\n",
    "            return \"F\"\n",
    "\n",
    "    def gpa(score):\n",
    "        if score >= 85  and score <= 100:\n",
    "            return \"4\"\n",
    "        if score >= 70 and score < 84.99:\n",
    "            return \"3\"\n",
    "        elif score >= 60  and score < 69.99:\n",
    "            return \"2.5\"\n",
    "        elif score >= 50  and score < 59.99:\n",
    "            return \"2\"\n",
    "        elif score >= 40  and score < 49.99:\n",
    "            return \"1.5\"\n",
    "        else:\n",
    "            return \"1\"\n",
    "  \n",
    "    for student, score in kwargs.items():\n",
    "        if convert_to.lower() == \"letter_grade\":\n",
    "            Grades[student] = letter_grade(score)\n",
    "        elif convert_to.lower() == \"gpa\":\n",
    "            Grades[student] = gpa(score)\n",
    "        else:\n",
    "            return \"Something Wrong\" \n",
    "    \n",
    "    return(Grades)\n",
    "\n",
    "Grades = Grade_Converter(convert_to='gpa', Adam=62, Faiz=91)\n",
    "print(Grades)\n"
   ]
  },
  {
   "cell_type": "code",
   "execution_count": 22,
   "metadata": {},
   "outputs": [
    {
     "name": "stderr",
     "output_type": "stream",
     "text": [
      "."
     ]
    },
    {
     "name": "stdout",
     "output_type": "stream",
     "text": [
      "{'Adam': '2.5', 'Faiz': '4'}\n"
     ]
    },
    {
     "name": "stderr",
     "output_type": "stream",
     "text": [
      "\n",
      "----------------------------------------------------------------------\n",
      "Ran 1 test in 0.002s\n",
      "\n",
      "OK\n"
     ]
    },
    {
     "data": {
      "text/plain": [
       "<unittest.main.TestProgram at 0x267f4c65760>"
      ]
     },
     "execution_count": 22,
     "metadata": {},
     "output_type": "execute_result"
    }
   ],
   "source": [
    "import unittest\n",
    "\n",
    "class UnitTest(unittest.TestCase) :\n",
    "  def test_Grade_Converter(self):\n",
    "    Grades = Grade_Converter(convert_to='gpa', Adam=62, Faiz=91)\n",
    "    print(Grades)\n",
    "    self.assertEqual(Grades, {'Adam': '2.5', 'Faiz': '4'})\n",
    "\n",
    "unittest.main(argv=[''], exit= False)"
   ]
  },
  {
   "cell_type": "code",
   "execution_count": 7,
   "metadata": {},
   "outputs": [
    {
     "name": "stdout",
     "output_type": "stream",
     "text": [
      "34\n"
     ]
    }
   ],
   "source": [
    "#Task 4 - Fibonacci Sequence\n",
    "#create a function that will return the value of n-th fibonacci number.\n",
    "\n",
    "def fibonacci (n):\n",
    "    if n <= 0:\n",
    "        return \"Invalid input\"\n",
    "    if n == 1:\n",
    "        return 0\n",
    "    elif n ==2:\n",
    "        return 1\n",
    "    else:\n",
    "        return fibonacci(n-1)+ fibonacci(n-2)\n",
    "\n",
    "print(fibonacci(10))"
   ]
  }
 ],
 "metadata": {
  "kernelspec": {
   "display_name": "Python 3",
   "language": "python",
   "name": "python3"
  },
  "language_info": {
   "codemirror_mode": {
    "name": "ipython",
    "version": 3
   },
   "file_extension": ".py",
   "mimetype": "text/x-python",
   "name": "python",
   "nbconvert_exporter": "python",
   "pygments_lexer": "ipython3",
   "version": "3.8.10"
  }
 },
 "nbformat": 4,
 "nbformat_minor": 2
}
