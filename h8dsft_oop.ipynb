{
 "cells": [
  {
   "cell_type": "markdown",
   "metadata": {},
   "source": [
    "## Non Graded Challenge\n",
    "#Task \n",
    "Create a library catalog system using OOP. The system should allow users to add books to the catalog, search for books by title or author, and remove books from the catalog.\n",
    "Requirements:\n",
    "1.Each book should have a title, author, and unique identifier\n",
    "2.The system should provide the following functionality:\n",
    "    ●Adding a book to the catalog.\n",
    "    ●Searching for books by title or author.\n",
    "    ●Removing a book from the catalog.\n",
    "    ●Displaying all books in the catalog.\n",
    "3.Do the exception handling4\n"
   ]
  },
  {
   "cell_type": "code",
   "execution_count": 47,
   "metadata": {},
   "outputs": [
    {
     "name": "stdout",
     "output_type": "stream",
     "text": [
      "Book 'Laskar Pelangi' by Andrea Hirata added to the catalog.\n",
      "Book 'Filosofi Teras' by Henry Manampiring added to the catalog.\n",
      "Book 'Gadis Kretek' by Ratih Kumala added to the catalog.\n",
      " \n",
      "Library book:\n",
      "Unique_ID: 101, Title: Laskar Pelangi, Author: Andrea Hirata\n",
      "Unique_ID: 201, Title: Filosofi Teras, Author: Henry Manampiring\n",
      "Unique_ID: 301, Title: Gadis Kretek, Author: Ratih Kumala\n",
      " \n",
      "Result for 'Laskar Pelangi':\n",
      "Unique_ID: 101, Title: Laskar Pelangi, Author: Andrea Hirata\n",
      "Book 'Filosofi Teras' by Henry Manampiring removed from the library.\n",
      " \n",
      "Library book:\n",
      "Unique_ID: 101, Title: Laskar Pelangi, Author: Andrea Hirata\n",
      "Unique_ID: 301, Title: Gadis Kretek, Author: Ratih Kumala\n"
     ]
    }
   ],
   "source": [
    "class Library:\n",
    "    def __init__(self):\n",
    "        self.book = []\n",
    "\n",
    "    def addBook(self, title, author, unique_id):\n",
    "        try:\n",
    "            new_book = {'title': title, 'author': author, 'unique_id': unique_id}\n",
    "            self.book.append(new_book)\n",
    "            print(f\"Book '{title}' by {author} added to the catalog.\")\n",
    "        except :\n",
    "            print(f\"Error !\")\n",
    "\n",
    "    def searchBook(self, key, value):\n",
    "        try:\n",
    "            found_books = [book for book in self.book if book[key].lower() == value.lower()]\n",
    "            return found_books\n",
    "        except :\n",
    "            print(f\"Error! \")\n",
    "\n",
    "    def removedBook(self, unique_id):\n",
    "        try:\n",
    "            for i, book in enumerate(self.book):\n",
    "                if book['unique_id'] == unique_id:\n",
    "                    removed_book = self.book.pop(i)\n",
    "                    print(f\"Book '{removed_book['title']}' by {removed_book['author']} removed from the library.\")\n",
    "                    return\n",
    "            print(f\"Book with unique ID {unique_id} not found in the library.\")\n",
    "        except: \n",
    "            print(f\"Error !\")\n",
    "\n",
    "    def displayBook(self):\n",
    "        try:\n",
    "            print(\"Library book:\")\n",
    "            for book in self.book:\n",
    "                print(f\"Unique_ID: {book['unique_id']}, Title: {book['title']}, Author: {book['author']}\")\n",
    "        except :\n",
    "            print(f\"Error !\")\n",
    "\n",
    "library = Library()\n",
    "\n",
    "library.addBook(\"Laskar Pelangi\", \"Andrea Hirata\", 101)\n",
    "library.addBook(\"Filosofi Teras\", \"Henry Manampiring\", 201)\n",
    "library.addBook(\"Gadis Kretek\", \"Ratih Kumala\", 301)\n",
    "print(\" \")\n",
    "library.displayBook()\n",
    "\n",
    "search_result = library.searchBook('title', 'Laskar Pelangi')\n",
    "print(\" \")\n",
    "print(f\"Result for 'Laskar Pelangi':\")\n",
    "for book in search_result:\n",
    "    print(f\"Unique_ID: {book['unique_id']}, Title: {book['title']}, Author: {book['author']}\")\n",
    "\n",
    "library.removedBook(201)\n",
    "print(\" \")\n",
    "library.displayBook()\n"
   ]
  }
 ],
 "metadata": {
  "kernelspec": {
   "display_name": "Python 3",
   "language": "python",
   "name": "python3"
  },
  "language_info": {
   "codemirror_mode": {
    "name": "ipython",
    "version": 3
   },
   "file_extension": ".py",
   "mimetype": "text/x-python",
   "name": "python",
   "nbconvert_exporter": "python",
   "pygments_lexer": "ipython3",
   "version": "3.8.10"
  }
 },
 "nbformat": 4,
 "nbformat_minor": 2
}
