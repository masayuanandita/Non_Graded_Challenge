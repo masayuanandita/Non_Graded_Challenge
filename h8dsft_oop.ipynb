{
 "cells": [
  {
   "cell_type": "code",
   "execution_count": null,
   "metadata": {},
   "outputs": [],
   "source": [
    "class library ():\n",
    "    def __init__(self, title, author, unique_id) :\n",
    "        self.title = title\n",
    "        self.author = author\n",
    "        self.unique_id = unique_id\n",
    "        \n",
    "    def __init__(self):\n",
    "        self.bookList = []\n",
    "\n",
    "    def displayBok(self):\n",
    "        print(f\"We have following books in our library: {self.name}\")\n",
    "        for book in self.booksList:\n",
    "            print(book)\n",
    "    \n",
    "    def addBook(self, book):\n",
    "        self.bookList.append(book)\n",
    "    \n",
    "    def searchBook(self, book):\n",
    "        self.bookList = "
   ]
  }
 ],
 "metadata": {
  "language_info": {
   "name": "python"
  }
 },
 "nbformat": 4,
 "nbformat_minor": 2
}
